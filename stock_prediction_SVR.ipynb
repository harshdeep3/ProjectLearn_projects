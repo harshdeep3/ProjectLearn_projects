{
  "nbformat": 4,
  "nbformat_minor": 0,
  "metadata": {
    "colab": {
      "provenance": [],
      "gpuType": "T4",
      "authorship_tag": "ABX9TyOiIVbqJ5KohTdFwO9teKsV",
      "include_colab_link": true
    },
    "kernelspec": {
      "name": "python3",
      "display_name": "Python 3"
    },
    "language_info": {
      "name": "python"
    },
    "accelerator": "GPU"
  },
  "cells": [
    {
      "cell_type": "markdown",
      "metadata": {
        "id": "view-in-github",
        "colab_type": "text"
      },
      "source": [
        "<a href=\"https://colab.research.google.com/github/harshdeep3/ProjectLearn_projects/blob/main/stock_prediction_SVR.ipynb\" target=\"_parent\"><img src=\"https://colab.research.google.com/assets/colab-badge.svg\" alt=\"Open In Colab\"/></a>"
      ]
    },
    {
      "cell_type": "code",
      "execution_count": null,
      "metadata": {
        "id": "jSuR_3djt42G",
        "colab": {
          "base_uri": "https://localhost:8080/"
        },
        "outputId": "2332d195-dc78-479b-8363-300a18c74a6d"
      },
      "outputs": [
        {
          "output_type": "stream",
          "name": "stdout",
          "text": [
            "Requirement already satisfied: numpy in /usr/local/lib/python3.10/dist-packages (1.25.2)\n",
            "Requirement already satisfied: scikit-learn in /usr/local/lib/python3.10/dist-packages (1.2.2)\n",
            "Requirement already satisfied: numpy>=1.17.3 in /usr/local/lib/python3.10/dist-packages (from scikit-learn) (1.25.2)\n",
            "Requirement already satisfied: scipy>=1.3.2 in /usr/local/lib/python3.10/dist-packages (from scikit-learn) (1.11.4)\n",
            "Requirement already satisfied: joblib>=1.1.1 in /usr/local/lib/python3.10/dist-packages (from scikit-learn) (1.4.2)\n",
            "Requirement already satisfied: threadpoolctl>=2.0.0 in /usr/local/lib/python3.10/dist-packages (from scikit-learn) (3.5.0)\n",
            "Requirement already satisfied: matplotlib in /usr/local/lib/python3.10/dist-packages (3.7.1)\n",
            "Requirement already satisfied: contourpy>=1.0.1 in /usr/local/lib/python3.10/dist-packages (from matplotlib) (1.2.1)\n",
            "Requirement already satisfied: cycler>=0.10 in /usr/local/lib/python3.10/dist-packages (from matplotlib) (0.12.1)\n",
            "Requirement already satisfied: fonttools>=4.22.0 in /usr/local/lib/python3.10/dist-packages (from matplotlib) (4.51.0)\n",
            "Requirement already satisfied: kiwisolver>=1.0.1 in /usr/local/lib/python3.10/dist-packages (from matplotlib) (1.4.5)\n",
            "Requirement already satisfied: numpy>=1.20 in /usr/local/lib/python3.10/dist-packages (from matplotlib) (1.25.2)\n",
            "Requirement already satisfied: packaging>=20.0 in /usr/local/lib/python3.10/dist-packages (from matplotlib) (24.0)\n",
            "Requirement already satisfied: pillow>=6.2.0 in /usr/local/lib/python3.10/dist-packages (from matplotlib) (9.4.0)\n",
            "Requirement already satisfied: pyparsing>=2.3.1 in /usr/local/lib/python3.10/dist-packages (from matplotlib) (3.1.2)\n",
            "Requirement already satisfied: python-dateutil>=2.7 in /usr/local/lib/python3.10/dist-packages (from matplotlib) (2.8.2)\n",
            "Requirement already satisfied: six>=1.5 in /usr/local/lib/python3.10/dist-packages (from python-dateutil>=2.7->matplotlib) (1.16.0)\n"
          ]
        }
      ],
      "source": [
        "!pip install numpy\n",
        "!pip install scikit-learn\n",
        "!pip install matplotlib"
      ]
    },
    {
      "cell_type": "code",
      "source": [
        "!pip install yfinance # get yahoo finance library"
      ],
      "metadata": {
        "colab": {
          "base_uri": "https://localhost:8080/"
        },
        "id": "eC5fS4_QveOd",
        "outputId": "da183da5-5746-4d4c-b2d3-1533b92c62e0"
      },
      "execution_count": null,
      "outputs": [
        {
          "output_type": "stream",
          "name": "stdout",
          "text": [
            "Requirement already satisfied: yfinance in /usr/local/lib/python3.10/dist-packages (0.2.38)\n",
            "Requirement already satisfied: pandas>=1.3.0 in /usr/local/lib/python3.10/dist-packages (from yfinance) (2.0.3)\n",
            "Requirement already satisfied: numpy>=1.16.5 in /usr/local/lib/python3.10/dist-packages (from yfinance) (1.25.2)\n",
            "Requirement already satisfied: requests>=2.31 in /usr/local/lib/python3.10/dist-packages (from yfinance) (2.31.0)\n",
            "Requirement already satisfied: multitasking>=0.0.7 in /usr/local/lib/python3.10/dist-packages (from yfinance) (0.0.11)\n",
            "Requirement already satisfied: lxml>=4.9.1 in /usr/local/lib/python3.10/dist-packages (from yfinance) (4.9.4)\n",
            "Requirement already satisfied: appdirs>=1.4.4 in /usr/local/lib/python3.10/dist-packages (from yfinance) (1.4.4)\n",
            "Requirement already satisfied: pytz>=2022.5 in /usr/local/lib/python3.10/dist-packages (from yfinance) (2023.4)\n",
            "Requirement already satisfied: frozendict>=2.3.4 in /usr/local/lib/python3.10/dist-packages (from yfinance) (2.4.2)\n",
            "Requirement already satisfied: peewee>=3.16.2 in /usr/local/lib/python3.10/dist-packages (from yfinance) (3.17.3)\n",
            "Requirement already satisfied: beautifulsoup4>=4.11.1 in /usr/local/lib/python3.10/dist-packages (from yfinance) (4.12.3)\n",
            "Requirement already satisfied: html5lib>=1.1 in /usr/local/lib/python3.10/dist-packages (from yfinance) (1.1)\n",
            "Requirement already satisfied: soupsieve>1.2 in /usr/local/lib/python3.10/dist-packages (from beautifulsoup4>=4.11.1->yfinance) (2.5)\n",
            "Requirement already satisfied: six>=1.9 in /usr/local/lib/python3.10/dist-packages (from html5lib>=1.1->yfinance) (1.16.0)\n",
            "Requirement already satisfied: webencodings in /usr/local/lib/python3.10/dist-packages (from html5lib>=1.1->yfinance) (0.5.1)\n",
            "Requirement already satisfied: python-dateutil>=2.8.2 in /usr/local/lib/python3.10/dist-packages (from pandas>=1.3.0->yfinance) (2.8.2)\n",
            "Requirement already satisfied: tzdata>=2022.1 in /usr/local/lib/python3.10/dist-packages (from pandas>=1.3.0->yfinance) (2024.1)\n",
            "Requirement already satisfied: charset-normalizer<4,>=2 in /usr/local/lib/python3.10/dist-packages (from requests>=2.31->yfinance) (3.3.2)\n",
            "Requirement already satisfied: idna<4,>=2.5 in /usr/local/lib/python3.10/dist-packages (from requests>=2.31->yfinance) (3.7)\n",
            "Requirement already satisfied: urllib3<3,>=1.21.1 in /usr/local/lib/python3.10/dist-packages (from requests>=2.31->yfinance) (2.0.7)\n",
            "Requirement already satisfied: certifi>=2017.4.17 in /usr/local/lib/python3.10/dist-packages (from requests>=2.31->yfinance) (2024.2.2)\n"
          ]
        }
      ]
    },
    {
      "cell_type": "code",
      "source": [
        "import csv\n",
        "import numpy as np\n",
        "from sklearn.svm import SVR\n",
        "\n",
        "from sklearn.preprocessing import MinMaxScaler\n",
        "import matplotlib.pyplot as plt\n",
        "import yfinance as yf"
      ],
      "metadata": {
        "id": "rOhlzSBnuutm"
      },
      "execution_count": null,
      "outputs": []
    },
    {
      "cell_type": "code",
      "source": [
        "\n",
        "def get_historcial_data(ticker_name):\n",
        "  data = yf.download(ticker_name)\n",
        "\n",
        "  return data\n",
        "\n",
        "\n",
        "apple_data = get_historcial_data(\"AAPL\")\n",
        "type(apple_data), apple_data"
      ],
      "metadata": {
        "colab": {
          "base_uri": "https://localhost:8080/"
        },
        "id": "hb6o23Rmuu_o",
        "outputId": "6ecc023e-703a-4481-9339-fa1c762e7c0b"
      },
      "execution_count": null,
      "outputs": [
        {
          "output_type": "stream",
          "name": "stderr",
          "text": [
            "\r[*********************100%%**********************]  1 of 1 completed\n"
          ]
        },
        {
          "output_type": "execute_result",
          "data": {
            "text/plain": [
              "(pandas.core.frame.DataFrame,\n",
              "                   Open        High         Low       Close   Adj Close  \\\n",
              " Date                                                                     \n",
              " 1980-12-12    0.128348    0.128906    0.128348    0.128348    0.099192   \n",
              " 1980-12-15    0.122210    0.122210    0.121652    0.121652    0.094017   \n",
              " 1980-12-16    0.113281    0.113281    0.112723    0.112723    0.087117   \n",
              " 1980-12-17    0.115513    0.116071    0.115513    0.115513    0.089273   \n",
              " 1980-12-18    0.118862    0.119420    0.118862    0.118862    0.091861   \n",
              " ...                ...         ...         ...         ...         ...   \n",
              " 2024-05-02  172.509995  173.419998  170.889999  173.029999  173.029999   \n",
              " 2024-05-03  186.649994  187.000000  182.660004  183.380005  183.380005   \n",
              " 2024-05-06  182.350006  184.199997  180.419998  181.710007  181.710007   \n",
              " 2024-05-07  183.449997  184.899994  181.320007  182.399994  182.399994   \n",
              " 2024-05-08  182.710007  183.050003  181.460007  182.740005  182.740005   \n",
              " \n",
              "                Volume  \n",
              " Date                   \n",
              " 1980-12-12  469033600  \n",
              " 1980-12-15  175884800  \n",
              " 1980-12-16  105728000  \n",
              " 1980-12-17   86441600  \n",
              " 1980-12-18   73449600  \n",
              " ...               ...  \n",
              " 2024-05-02   94214900  \n",
              " 2024-05-03  163224100  \n",
              " 2024-05-06   78569700  \n",
              " 2024-05-07   77305800  \n",
              " 2024-05-08   43866551  \n",
              " \n",
              " [10942 rows x 6 columns])"
            ]
          },
          "metadata": {},
          "execution_count": 4
        }
      ]
    },
    {
      "cell_type": "code",
      "source": [
        "apple_data.keys()"
      ],
      "metadata": {
        "colab": {
          "base_uri": "https://localhost:8080/"
        },
        "id": "72UOm43Sx0oW",
        "outputId": "ee247577-e628-43ec-f816-bab89673494b"
      },
      "execution_count": null,
      "outputs": [
        {
          "output_type": "execute_result",
          "data": {
            "text/plain": [
              "Index(['Open', 'High', 'Low', 'Close', 'Adj Close', 'Volume'], dtype='object')"
            ]
          },
          "metadata": {},
          "execution_count": 5
        }
      ]
    },
    {
      "cell_type": "code",
      "source": [
        "y = apple_data['Close']\n",
        "features = apple_data[['Close']].shift(1)\n",
        "\n",
        "# Handle date indexing (using pandas.Timestamp.timestamp())\n",
        "timestamps = features.index.to_pydatetime()\n",
        "\n",
        "X = features.values  # Separate features from DataFrame\n",
        "X[0] = X[1]\n",
        "\n",
        "X, y, timestamps"
      ],
      "metadata": {
        "colab": {
          "base_uri": "https://localhost:8080/"
        },
        "id": "lEy3izH-uvDo",
        "outputId": "ef9ec417-2bcb-40fa-fe4c-f8f3a93b3332"
      },
      "execution_count": null,
      "outputs": [
        {
          "output_type": "execute_result",
          "data": {
            "text/plain": [
              "(array([[1.28347993e-01],\n",
              "        [1.28347993e-01],\n",
              "        [1.21652000e-01],\n",
              "        ...,\n",
              "        [1.83380005e+02],\n",
              "        [1.81710007e+02],\n",
              "        [1.82399994e+02]]),\n",
              " Date\n",
              " 1980-12-12      0.128348\n",
              " 1980-12-15      0.121652\n",
              " 1980-12-16      0.112723\n",
              " 1980-12-17      0.115513\n",
              " 1980-12-18      0.118862\n",
              "                  ...    \n",
              " 2024-05-02    173.029999\n",
              " 2024-05-03    183.380005\n",
              " 2024-05-06    181.710007\n",
              " 2024-05-07    182.399994\n",
              " 2024-05-08    182.740005\n",
              " Name: Close, Length: 10942, dtype: float64,\n",
              " array([datetime.datetime(1980, 12, 12, 0, 0),\n",
              "        datetime.datetime(1980, 12, 15, 0, 0),\n",
              "        datetime.datetime(1980, 12, 16, 0, 0), ...,\n",
              "        datetime.datetime(2024, 5, 6, 0, 0),\n",
              "        datetime.datetime(2024, 5, 7, 0, 0),\n",
              "        datetime.datetime(2024, 5, 8, 0, 0)], dtype=object))"
            ]
          },
          "metadata": {},
          "execution_count": 6
        }
      ]
    },
    {
      "cell_type": "code",
      "source": [
        "# Normalize features and target variable\n",
        "scaler = MinMaxScaler(feature_range=(0, 1))\n",
        "X_scaled = scaler.fit_transform(X)\n",
        "y_scaled = scaler.fit_transform(y.values.reshape(-1, 1))  # Reshape for 2D compatibility\n"
      ],
      "metadata": {
        "id": "xy8j7-GgcQxd"
      },
      "execution_count": null,
      "outputs": []
    },
    {
      "cell_type": "code",
      "source": [
        "# Split data into training and testing sets\n",
        "from sklearn.model_selection import train_test_split\n",
        "\n",
        "X_train, X_test, y_train, y_test = train_test_split(X_scaled, y_scaled, test_size=0.2)\n"
      ],
      "metadata": {
        "id": "GE_nm0dycbMH"
      },
      "execution_count": null,
      "outputs": []
    },
    {
      "cell_type": "code",
      "source": [
        "import pandas as pd\n",
        "\n",
        "def fit_data(X_train, y_train):\n",
        "\n",
        "  svr_lin = SVR(kernel='linear', C=1e3)\n",
        "  svr_ploy = SVR(kernel='poly', C=1e3, degree=2)\n",
        "  svr_rbf = SVR(kernel='rbf', C=1e3, gamma=0.1) # You can experiment\n",
        "  # with different kernels\n",
        "\n",
        "  svr_lin.fit(X_train, y_train.ravel())\n",
        "  svr_ploy.fit(X_train, y_train.ravel())\n",
        "  svr_rbf.fit(X_train, y_train.ravel())  # ravel() flattens the 2D array\n",
        "\n",
        "  # plt.scatter(X_train, y_train, color='black', lable='Data')\n",
        "  # plt.plot(X_train, svr_lin.predict(y_train), color='green', lable='Linear model')\n",
        "  # plt.plot(X_train, svr_ploy.predict(y_train), color='blue', lable='Ploynomial model')\n",
        "  # plt.plot(X_train, svr_rbf.predict(y_train), color='red', lable='RBF model')\n",
        "\n",
        "  # plt.xlabel('Date')\n",
        "  # plt.ylabel('Price')\n",
        "  # plt.title('SVR')\n",
        "  # plt.show()\n",
        "\n",
        "  return svr_lin, svr_ploy, svr_rbf\n",
        "\n",
        "\n",
        "\n"
      ],
      "metadata": {
        "id": "5_KZ2WlfuvHc"
      },
      "execution_count": null,
      "outputs": []
    },
    {
      "cell_type": "code",
      "source": [
        "svr_lin, svr_ploy, svr_rbf = fit_data(X_train, y_train)"
      ],
      "metadata": {
        "id": "ooEJOA5UuvK6"
      },
      "execution_count": null,
      "outputs": []
    }
  ]
}